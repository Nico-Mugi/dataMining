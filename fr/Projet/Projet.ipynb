{
 "cells": [
  {
   "cell_type": "markdown",
   "metadata": {},
   "source": [
    "# Projet\n"
   ]
  },
  {
   "cell_type": "markdown",
   "metadata": {},
   "source": [
    "# Installation des librairies"
   ]
  },
  {
   "cell_type": "code",
   "execution_count": 64,
   "metadata": {},
   "outputs": [
    {
     "name": "stdout",
     "output_type": "stream",
     "text": [
      "Requirement already satisfied: papermill in /home/atma/.local/lib/python3.8/site-packages (from -r requirements.txt (line 1)) (2.3.4)\n",
      "Requirement already satisfied: pandas in /home/atma/.local/lib/python3.8/site-packages (from -r requirements.txt (line 2)) (1.4.1)\n",
      "Requirement already satisfied: sklearn in /home/atma/.local/lib/python3.8/site-packages (from -r requirements.txt (line 3)) (0.0)\n",
      "Requirement already satisfied: matplotlib in /home/atma/.local/lib/python3.8/site-packages (from -r requirements.txt (line 4)) (3.5.1)\n",
      "Requirement already satisfied: ipython in /home/atma/.local/lib/python3.8/site-packages (from -r requirements.txt (line 5)) (7.19.0)\n",
      "Requirement already satisfied: ipykernel in /home/atma/.local/lib/python3.8/site-packages (from -r requirements.txt (line 6)) (5.3.4)\n",
      "Requirement already satisfied: jupyter-core in /home/atma/.local/lib/python3.8/site-packages (from -r requirements.txt (line 7)) (4.7.0)\n",
      "Requirement already satisfied: mathjax>=0.1.2 in /home/atma/.local/lib/python3.8/site-packages (from -r requirements.txt (line 8)) (0.1.2)\n",
      "Requirement already satisfied: webcolors in /home/atma/.local/lib/python3.8/site-packages (from -r requirements.txt (line 9)) (1.11.1)\n",
      "Requirement already satisfied: requests in /usr/lib/python3/dist-packages (from papermill->-r requirements.txt (line 1)) (2.22.0)\n",
      "Requirement already satisfied: tqdm>=4.32.2 in /home/atma/.local/lib/python3.8/site-packages (from papermill->-r requirements.txt (line 1)) (4.63.0)\n",
      "Requirement already satisfied: nbformat>=5.1.2 in /home/atma/.local/lib/python3.8/site-packages (from papermill->-r requirements.txt (line 1)) (5.2.0)\n",
      "Requirement already satisfied: entrypoints in /usr/lib/python3/dist-packages (from papermill->-r requirements.txt (line 1)) (0.3)\n",
      "Requirement already satisfied: click in /usr/lib/python3/dist-packages (from papermill->-r requirements.txt (line 1)) (7.0)\n",
      "Requirement already satisfied: tenacity in /home/atma/.local/lib/python3.8/site-packages (from papermill->-r requirements.txt (line 1)) (8.0.1)\n",
      "Requirement already satisfied: nbclient>=0.2.0 in /home/atma/.local/lib/python3.8/site-packages (from papermill->-r requirements.txt (line 1)) (0.5.13)\n",
      "Requirement already satisfied: pyyaml in /usr/lib/python3/dist-packages (from papermill->-r requirements.txt (line 1)) (5.3.1)\n",
      "Requirement already satisfied: ansiwrap in /home/atma/.local/lib/python3.8/site-packages (from papermill->-r requirements.txt (line 1)) (0.8.4)\n",
      "Requirement already satisfied: pytz>=2020.1 in /home/atma/.local/lib/python3.8/site-packages (from pandas->-r requirements.txt (line 2)) (2021.3)\n",
      "Requirement already satisfied: python-dateutil>=2.8.1 in /home/atma/.local/lib/python3.8/site-packages (from pandas->-r requirements.txt (line 2)) (2.8.1)\n",
      "Requirement already satisfied: numpy>=1.18.5; platform_machine != \"aarch64\" and platform_machine != \"arm64\" and python_version < \"3.10\" in /home/atma/.local/lib/python3.8/site-packages (from pandas->-r requirements.txt (line 2)) (1.19.4)\n",
      "Requirement already satisfied: scikit-learn in /home/atma/.local/lib/python3.8/site-packages (from sklearn->-r requirements.txt (line 3)) (1.0.2)\n",
      "Requirement already satisfied: kiwisolver>=1.0.1 in /home/atma/.local/lib/python3.8/site-packages (from matplotlib->-r requirements.txt (line 4)) (1.3.2)\n",
      "Requirement already satisfied: cycler>=0.10 in /home/atma/.local/lib/python3.8/site-packages (from matplotlib->-r requirements.txt (line 4)) (0.11.0)\n",
      "Requirement already satisfied: fonttools>=4.22.0 in /home/atma/.local/lib/python3.8/site-packages (from matplotlib->-r requirements.txt (line 4)) (4.29.1)\n",
      "Requirement already satisfied: packaging>=20.0 in /usr/lib/python3/dist-packages (from matplotlib->-r requirements.txt (line 4)) (20.3)\n",
      "Requirement already satisfied: pillow>=6.2.0 in /home/atma/.local/lib/python3.8/site-packages (from matplotlib->-r requirements.txt (line 4)) (9.0.1)\n",
      "Requirement already satisfied: pyparsing>=2.2.1 in /usr/lib/python3/dist-packages (from matplotlib->-r requirements.txt (line 4)) (2.4.6)\n",
      "Requirement already satisfied: pexpect>4.3; sys_platform != \"win32\" in /usr/lib/python3/dist-packages (from ipython->-r requirements.txt (line 5)) (4.6.0)\n",
      "Requirement already satisfied: setuptools>=18.5 in /usr/lib/python3/dist-packages (from ipython->-r requirements.txt (line 5)) (45.2.0)\n",
      "Requirement already satisfied: decorator in /home/atma/.local/lib/python3.8/site-packages (from ipython->-r requirements.txt (line 5)) (4.4.2)\n",
      "Requirement already satisfied: pygments in /home/atma/.local/lib/python3.8/site-packages (from ipython->-r requirements.txt (line 5)) (2.7.2)\n",
      "Requirement already satisfied: backcall in /home/atma/.local/lib/python3.8/site-packages (from ipython->-r requirements.txt (line 5)) (0.2.0)\n",
      "Requirement already satisfied: pickleshare in /home/atma/.local/lib/python3.8/site-packages (from ipython->-r requirements.txt (line 5)) (0.7.5)\n",
      "Requirement already satisfied: prompt-toolkit!=3.0.0,!=3.0.1,<3.1.0,>=2.0.0 in /home/atma/.local/lib/python3.8/site-packages (from ipython->-r requirements.txt (line 5)) (3.0.8)\n",
      "Requirement already satisfied: traitlets>=4.2 in /home/atma/.local/lib/python3.8/site-packages (from ipython->-r requirements.txt (line 5)) (5.0.5)\n",
      "Requirement already satisfied: jedi>=0.10 in /home/atma/.local/lib/python3.8/site-packages (from ipython->-r requirements.txt (line 5)) (0.17.2)\n",
      "Requirement already satisfied: jupyter-client in /home/atma/.local/lib/python3.8/site-packages (from ipykernel->-r requirements.txt (line 6)) (6.1.7)\n",
      "Requirement already satisfied: tornado>=4.2 in /home/atma/.local/lib/python3.8/site-packages (from ipykernel->-r requirements.txt (line 6)) (6.1)\n",
      "Requirement already satisfied: jsonschema!=2.5.0,>=2.4 in /usr/lib/python3/dist-packages (from nbformat>=5.1.2->papermill->-r requirements.txt (line 1)) (3.2.0)\n",
      "Requirement already satisfied: nest-asyncio in /home/atma/.local/lib/python3.8/site-packages (from nbclient>=0.2.0->papermill->-r requirements.txt (line 1)) (1.5.4)\n",
      "Requirement already satisfied: textwrap3>=0.9.2 in /home/atma/.local/lib/python3.8/site-packages (from ansiwrap->papermill->-r requirements.txt (line 1)) (0.9.2)\n",
      "Requirement already satisfied: six>=1.5 in /usr/lib/python3/dist-packages (from python-dateutil>=2.8.1->pandas->-r requirements.txt (line 2)) (1.14.0)\n",
      "Requirement already satisfied: scipy>=1.1.0 in /home/atma/.local/lib/python3.8/site-packages (from scikit-learn->sklearn->-r requirements.txt (line 3)) (1.8.0)\n",
      "Requirement already satisfied: joblib>=0.11 in /home/atma/.local/lib/python3.8/site-packages (from scikit-learn->sklearn->-r requirements.txt (line 3)) (1.1.0)\n",
      "Requirement already satisfied: threadpoolctl>=2.0.0 in /home/atma/.local/lib/python3.8/site-packages (from scikit-learn->sklearn->-r requirements.txt (line 3)) (3.1.0)\n",
      "Requirement already satisfied: wcwidth in /home/atma/.local/lib/python3.8/site-packages (from prompt-toolkit!=3.0.0,!=3.0.1,<3.1.0,>=2.0.0->ipython->-r requirements.txt (line 5)) (0.2.5)\n",
      "Requirement already satisfied: ipython-genutils in /home/atma/.local/lib/python3.8/site-packages (from traitlets>=4.2->ipython->-r requirements.txt (line 5)) (0.2.0)\n",
      "Requirement already satisfied: parso<0.8.0,>=0.7.0 in /home/atma/.local/lib/python3.8/site-packages (from jedi>=0.10->ipython->-r requirements.txt (line 5)) (0.7.1)\n",
      "Requirement already satisfied: pyzmq>=13 in /home/atma/.local/lib/python3.8/site-packages (from jupyter-client->ipykernel->-r requirements.txt (line 6)) (20.0.0)\n"
     ]
    }
   ],
   "source": [
    "!pip install -r requirements.txt"
   ]
  },
  {
   "cell_type": "markdown",
   "metadata": {},
   "source": [
    "# Liste des imports"
   ]
  },
  {
   "cell_type": "code",
   "execution_count": 65,
   "metadata": {},
   "outputs": [],
   "source": [
    "import random\n",
    "import requests\n",
    "import tarfile\n",
    "import os\n",
    "import json\n",
    "import webcolors\n",
    "import numpy\n",
    "import math\n",
    "import webcolors\n",
    "import pandas as pd\n",
    "import matplotlib.pyplot as plt\n",
    "from sklearn.preprocessing import LabelEncoder\n",
    "from sklearn import tree\n",
    "from PIL import Image, ExifTags, ImageColor\n",
    "from sklearn.cluster import MiniBatchKMeans\n"
   ]
  },
  {
   "cell_type": "markdown",
   "metadata": {},
   "source": [
    "## Collecte de données et Etiquetage des informations\n",
    "Nous commencons par créer notre dossier images, dans le repertoire courant."
   ]
  },
  {
   "cell_type": "code",
   "execution_count": 66,
   "metadata": {},
   "outputs": [],
   "source": [
    "\n",
    "URL_IMAGES = 'https://www.robots.ox.ac.uk/~vgg/data/pets/data/images.tar.gz'\n",
    "IMAGES_PATH = \"images/\"\n",
    "FICHIER_JSON = \"json_data.json\"\n",
    "\n",
    "# Création du dossier images\n",
    "if os.path.exists(IMAGES_PATH) is False :\n",
    "    os.mkdir(IMAGES_PATH)\n",
    "\n",
    "# Téléchargement des images\n",
    "if(os.path.exists(\"images.tar.gz\")) is False :\n",
    "    print('Téléchargement des images...')\n",
    "    req = requests.get(URL_IMAGES)\n",
    "    print('Téléchargement fini')\n",
    "\n",
    "    # Extraction des images\n",
    "    print(\"Extraction des images...\")\n",
    "    filename = URL_IMAGES.split('/')[-1]\n",
    "    with open(filename,'wb') as output_file:\n",
    "        output_file.write(req.content)\n",
    "    tar = tarfile.open(filename, \"r:gz\")\n",
    "    tar.extractall()\n",
    "    tar.close()\n",
    "    print(\"Extraction des images fini\")\n",
    "\n",
    "    # Suppression des fichiers temporaires\n",
    "    print(\"Suppression des fichiers temporaires\")\n",
    "    os.remove(\"images.tar.gz\")\n"
   ]
  },
  {
   "cell_type": "markdown",
   "metadata": {},
   "source": [
    "Création du JSON et sauvegardes des informations sur l'images. Ce fichier contient les données EXIF trouvés ainsi que les couleurs prédominantes que nous avons analysés."
   ]
  },
  {
   "cell_type": "code",
   "execution_count": 67,
   "metadata": {},
   "outputs": [
    {
     "name": "stdout",
     "output_type": "stream",
     "text": [
      "Parcours du dossier en cours...\n",
      "Parcours du dossier terminé\n"
     ]
    }
   ],
   "source": [
    "# Création du JSON avec les EXIF des images\n",
    "jsonImages = {}\n",
    "info_dict = []\n",
    "raceChien = [\n",
    "    'american'\n",
    "    'basset',\n",
    "    'ceagle',\n",
    "    'boxer',\n",
    "    'chihuahua',\n",
    "    'english',\n",
    "    'german_Shorthaired',\n",
    "    'great_Pyrenees',\n",
    "    'havanese',\n",
    "    'japanese',\n",
    "    'keeshond',\n",
    "    'leonberger',\n",
    "    'miniature',\n",
    "    'newfoundland',\n",
    "    'pomeranian',\n",
    "    'pug',\n",
    "    'saint',\n",
    "    'samyoed',\n",
    "    'scottish',\n",
    "    'shiba',\n",
    "    'staffordshire',\n",
    "    'wheaten',\n",
    "    'yorkshire'\n",
    "]\n",
    "\n",
    "def couleurProche(couleur):\n",
    "    couleurs = {}\n",
    "    for key, name in webcolors.CSS3_HEX_TO_NAMES.items():\n",
    "        r_c, g_c, b_c = webcolors.hex_to_rgb(key)\n",
    "        rd = (r_c - couleur[0]) ** 2\n",
    "        gd = (g_c - couleur[1]) ** 2\n",
    "        bd = (b_c - couleur[2]) ** 2\n",
    "        couleurs[(rd + gd + bd)] = name\n",
    "    return couleurs[min(couleurs.keys())]\n",
    "\n",
    "def getNomCouleurs(couleur):\n",
    "    try:\n",
    "        nom = nomActuel = webcolors.rgb_to_name(couleur)\n",
    "    except ValueError:\n",
    "        nom = couleurProche(couleur)\n",
    "        nomActuel = None\n",
    "    return nomActuel, nom\n",
    "\n",
    "def recupererCouleurs(image):\n",
    "    couleursPredominante = []\n",
    "\n",
    "    numarray = numpy.array(image.getdata(), numpy.uint8)\n",
    "    clusters = MiniBatchKMeans(n_clusters = 3)\n",
    "    clusters.fit(numarray)\n",
    "    npbins = numpy.arange(0, 4)\n",
    "    histogram = numpy.histogram(clusters.labels_, bins=npbins)\n",
    "    labels = numpy.unique(clusters.labels_)\n",
    "\n",
    "    for i in range(3):\n",
    "        hexColor = ('#%02x%02x%02x' % (\n",
    "            math.ceil(clusters.cluster_centers_[i][0]), \n",
    "            math.ceil(clusters.cluster_centers_[i][1]),\n",
    "            math.ceil(clusters.cluster_centers_[i][2])))\n",
    "        rgbColor = ImageColor.getcolor(hexColor, \"RGB\")\n",
    "        actual_name, closest_name = getNomCouleurs(rgbColor)\n",
    "        if(actual_name != None):\n",
    "            couleursPredominante.append(actual_name)\n",
    "        else:\n",
    "            couleursPredominante.append(closest_name)\n",
    "    \n",
    "    return couleursPredominante\n",
    "\n",
    "\n",
    "# Parcours de toutes les images du dossier\n",
    "print(\"Parcours du dossier en cours...\")\n",
    "for fichier in os.listdir(IMAGES_PATH):\n",
    "    if fichier.endswith ('.jpg'):\n",
    "        if(int(fichier.split(\"_\")[len(fichier.split(\"_\")) - 1].split(\".\")[0]) <= 10):\n",
    "            cheminFichier = os.path.join(IMAGES_PATH, fichier)\n",
    "            image = Image.open(cheminFichier)\n",
    "\n",
    "            # Récupération des EXIF\n",
    "            info_dict = {\n",
    "                \"Race\" : fichier.split(\"_\")[0],\n",
    "                \"Image Hauteur\": image.height,\n",
    "                \"Image Largeur\": image.width,\n",
    "                \"Mode\": image.mode,\n",
    "                \"Orientation\": \"Portrait\" if image.height > image.width else \"Paysage\", \n",
    "                \"Image anime\": getattr(image, \"is_animated\", False),\n",
    "            }\n",
    "\n",
    "            # Récupération des infos sur l'image\n",
    "            if info_dict[\"Race\"] in raceChien:\n",
    "                info_dict[\"Animal\"] = \"Chiens\"\n",
    "            else:\n",
    "                info_dict[\"Animal\"] = \"Chats\"\n",
    "\n",
    "            # Récupération des couleurs\n",
    "            if(image.mode != \"RGB\"):\n",
    "                image = image.convert(\"RGB\")\n",
    "            info_dict[\"Couleurs\"] = recupererCouleurs(image);\n",
    "            \n",
    "            jsonImages[fichier] = info_dict\n",
    "\n",
    "with open('json_data.json', 'w') as outfile:\n",
    "    json.dump(jsonImages, outfile, indent=4, separators=(',',': '))\n",
    "outfile.close()\n",
    "print(\"Parcours du dossier terminé\")"
   ]
  },
  {
   "cell_type": "markdown",
   "metadata": {},
   "source": [
    "## Analyses des données\n",
    "\n",
    "Nous allons maintenant créer 5 utilisateurs \"test\". Nous sélectionnerons 100 images de manière aléatoires de notre dossier d'images. De plus, nous leurs affecterons de manière aléatoire une valeur \"J'aime\" et \"J'aime pas\"."
   ]
  },
  {
   "cell_type": "code",
   "execution_count": 68,
   "metadata": {},
   "outputs": [],
   "source": [
    "NOMBRE_UTILISATEUR = 4\n",
    "\n",
    "nomImages = []\n",
    "utilisateursTest = []\n",
    "\n",
    "# Ouverture du JSON\n",
    "listeImages = json.load(open('json_data.json'))\n",
    "\n",
    "# Récupération du nom des images\n",
    "for key in listeImages.keys():\n",
    "    nomImages.append(key)\n",
    "\n",
    "# Affectation des images aux utilisateurs avec leurs avis\n",
    "for i in range(NOMBRE_UTILISATEUR):\n",
    "    preferences = {}\n",
    "    for j in range(100):\n",
    "\n",
    "        # Récupération d'une image et d'un avis aléatoire \n",
    "        image = random.randrange(0, len(listeImages))\n",
    "        avis = random.randrange(0, 2)\n",
    "\n",
    "        # Affectation à l'utilisateur\n",
    "        preferences[nomImages[image]] = \"J'aime\" if avis == 1 else \"J'aime pas\"\n",
    "    utilisateursTest.append(preferences)"
   ]
  },
  {
   "cell_type": "markdown",
   "metadata": {},
   "source": [
    "Avec les informations des utilisateurs, nous pouvons maintenant créer un dataframes allant servir par la suite"
   ]
  },
  {
   "cell_type": "code",
   "execution_count": 75,
   "metadata": {},
   "outputs": [
    {
     "name": "stdout",
     "output_type": "stream",
     "text": [
      "[          Avis\n",
      "0       J'aime\n",
      "1   J'aime pas\n",
      "2       J'aime\n",
      "3       J'aime\n",
      "4       J'aime\n",
      "..         ...\n",
      "81  J'aime pas\n",
      "82  J'aime pas\n",
      "83      J'aime\n",
      "84  J'aime pas\n",
      "85  J'aime pas\n",
      "\n",
      "[86 rows x 1 columns],           Avis\n",
      "0       J'aime\n",
      "1   J'aime pas\n",
      "2   J'aime pas\n",
      "3       J'aime\n",
      "4       J'aime\n",
      "..         ...\n",
      "86  J'aime pas\n",
      "87      J'aime\n",
      "88  J'aime pas\n",
      "89  J'aime pas\n",
      "90      J'aime\n",
      "\n",
      "[91 rows x 1 columns],           Avis\n",
      "0       J'aime\n",
      "1   J'aime pas\n",
      "2       J'aime\n",
      "3   J'aime pas\n",
      "4   J'aime pas\n",
      "..         ...\n",
      "82  J'aime pas\n",
      "83      J'aime\n",
      "84  J'aime pas\n",
      "85  J'aime pas\n",
      "86      J'aime\n",
      "\n",
      "[87 rows x 1 columns],           Avis\n",
      "0       J'aime\n",
      "1   J'aime pas\n",
      "2   J'aime pas\n",
      "3       J'aime\n",
      "4       J'aime\n",
      "..         ...\n",
      "78      J'aime\n",
      "79  J'aime pas\n",
      "80      J'aime\n",
      "81  J'aime pas\n",
      "82      J'aime\n",
      "\n",
      "[83 rows x 1 columns]]\n"
     ]
    }
   ],
   "source": [
    "dataframe = []\n",
    "favoris = []\n",
    "\n",
    "infosImage = [\n",
    "    \"Image\", \n",
    "    \"Race\",\n",
    "    \"Animal\",\n",
    "    \"Image Hauteur\",\n",
    "    \"Image Largeur\", \n",
    "    \"Couleur1\",\n",
    "    \"Couleur2\", \n",
    "    \"Couleur3\"\n",
    "]\n",
    "\n",
    "colonneDataframe = [ \n",
    "    \"Race\",\n",
    "    \"Animal\",\n",
    "    \"Image Hauteur\",\n",
    "    \"Image Largeur\", \n",
    "    \"Couleur1\",\n",
    "    \"Couleur2\",\n",
    "    \"Couleur3\"\n",
    "]\n",
    "\n",
    "# Création des labels\n",
    "labels = []\n",
    "for _ in colonneDataframe:\n",
    "    labels.append(LabelEncoder())\n",
    "labelFavoris = LabelEncoder()\n",
    "\n",
    "# Parcours des utilisateurs\n",
    "for i in range(len(utilisateursTest)):\n",
    "    preferences = utilisateursTest[i]\n",
    "    infoDataframe = []\n",
    "    favorisDataframe = []\n",
    "\n",
    "    for key in preferences.keys():\n",
    "        image = listeImages[key]\n",
    "        \n",
    "        # Récupération des couleurs\n",
    "        couleur1 = image[\"Couleurs\"][0]\n",
    "        couleur2 = image[\"Couleurs\"][1]\n",
    "        couleur3 = image[\"Couleurs\"][2]\n",
    "\n",
    "        # Ajout aux dataframes de toutes les infos de l'image\n",
    "        infoDataframe.append([key, image[\"Race\"], image[\"Animal\"], image[\"Image Hauteur\"], image[\"Image Largeur\"], couleur1, couleur2, couleur3])\n",
    "        favorisDataframe.append(preferences[key])\n",
    "    \n",
    "    # Création des dataframes\n",
    "    dataframe.append(pd.DataFrame(infoDataframe, columns=infosImage))\n",
    "    favoris.append(pd.DataFrame(favorisDataframe, columns=[\"Avis\"]))\n",
    "\n",
    "print(favoris)"
   ]
  },
  {
   "cell_type": "markdown",
   "metadata": {},
   "source": [
    "## Visualisation des données\n",
    "\n",
    "Avec nos dataframes, nous allons récupérés les images aimés aléatoirement par nos utilisateurs. Une fois fait, nous allons afficher les images dont la race est aimé par l'utilisateur"
   ]
  },
  {
   "cell_type": "code",
   "execution_count": 70,
   "metadata": {},
   "outputs": [
    {
     "name": "stdout",
     "output_type": "stream",
     "text": [
      "{'Couleurs': {'darkgray': 10, 'darkslategray': 27, 'darkolivegreen': 11, 'dimgray': 17, 'black': 13, 'tan': 4, 'gainsboro': 7, 'gray': 20, 'linen': 1, 'indianred': 1, 'rosybrown': 9, 'peru': 2, 'whitesmoke': 1, 'wheat': 2, 'silver': 13, 'sienna': 3, 'saddlebrown': 3, 'lightgray': 6, 'cadetblue': 1, 'darkseagreen': 1, 'skyblue': 1, 'midnightblue': 1, 'white': 1, 'sandybrown': 1}, 'Chiens': {'total': 29, 'Race': {'japanese': 3, 'keeshond': 4, 'newfoundland': 3, 'miniature': 1, 'english': 2, 'leonberger': 4, 'shiba': 2, 'pomeranian': 4, 'pug': 1, 'scottish': 2, 'chihuahua': 1, 'havanese': 1, 'wheaten': 1}}, 'Chats': {'total': 23, 'Race': {'american': 5, 'beagle': 1, 'Sphynx': 1, 'Birman': 2, 'german': 2, 'basset': 2, 'Egyptian': 2, 'Abyssinian': 1, 'British': 1, 'Ragdoll': 4, 'Bengal': 1, 'Maine': 1}}}\n",
      "{'Couleurs': {'darkslategray': 26, 'rosybrown': 9, 'dimgray': 16, 'lightslategray': 1, 'black': 10, 'gray': 15, 'lightsteelblue': 2, 'darkgray': 8, 'lightblue': 2, 'tan': 5, 'lightgray': 5, 'whitesmoke': 1, 'darkolivegreen': 12, 'gainsboro': 6, 'silver': 8, 'sienna': 2, 'saddlebrown': 2, 'snow': 1, 'darkkhaki': 1, 'plum': 1, 'darkslateblue': 1, 'steelblue': 2, 'powderblue': 1, 'peru': 1}, 'Chiens': {'total': 32, 'Race': {'leonberger': 1, 'english': 4, 'shiba': 2, 'newfoundland': 1, 'pomeranian': 1, 'keeshond': 2, 'havanese': 1, 'chihuahua': 5, 'pug': 3, 'boxer': 3, 'scottish': 3, 'japanese': 3, 'saint': 1, 'wheaten': 1, 'staffordshire': 1}}, 'Chats': {'total': 14, 'Race': {'Birman': 3, 'basset': 2, 'german': 1, 'american': 1, 'Persian': 1, 'beagle': 1, 'Ragdoll': 1, 'Maine': 1, 'Egyptian': 1, 'Siamese': 1, 'samoyed': 1}}}\n",
      "{'Couleurs': {'darkslategray': 20, 'lightslategray': 1, 'gray': 20, 'silver': 11, 'dimgray': 9, 'darkkhaki': 2, 'black': 12, 'darkgray': 9, 'lightgray': 5, 'darkolivegreen': 12, 'rosybrown': 5, 'linen': 2, 'thistle': 1, 'lightsteelblue': 1, 'gainsboro': 4, 'sienna': 1, 'olivedrab': 1, 'saddlebrown': 2, 'tan': 1, 'darkcyan': 1, 'lightblue': 1, 'peru': 1, 'whitesmoke': 1, 'lavender': 1, 'antiquewhite': 1, 'olive': 1}, 'Chiens': {'total': 29, 'Race': {'scottish': 1, 'shiba': 3, 'pomeranian': 2, 'havanese': 3, 'yorkshire': 2, 'pug': 4, 'miniature': 1, 'wheaten': 2, 'saint': 2, 'boxer': 2, 'japanese': 1, 'staffordshire': 2, 'leonberger': 3, 'keeshond': 1}}, 'Chats': {'total': 13, 'Race': {'Egyptian': 3, 'British': 1, 'samoyed': 3, 'Russian': 1, 'Persian': 1, 'german': 1, 'american': 2, 'Ragdoll': 1}}}\n",
      "{'Couleurs': {'silver': 8, 'darkslategray': 18, 'gray': 23, 'gainsboro': 4, 'sienna': 2, 'black': 15, 'burlywood': 1, 'darkolivegreen': 9, 'dimgray': 11, 'darkgray': 7, 'steelblue': 1, 'powderblue': 1, 'whitesmoke': 1, 'lightgray': 4, 'olive': 1, 'darkkhaki': 1, 'tan': 4, 'saddlebrown': 2, 'olivedrab': 1, 'darkseagreen': 1, 'rosybrown': 3, 'khaki': 1, 'lightblue': 2, 'wheat': 1, 'linen': 1}, 'Chiens': {'total': 24, 'Race': {'staffordshire': 2, 'keeshond': 1, 'miniature': 1, 'leonberger': 2, 'havanese': 1, 'pug': 3, 'scottish': 3, 'newfoundland': 1, 'yorkshire': 1, 'japanese': 2, 'shiba': 1, 'wheaten': 2, 'english': 2, 'saint': 1, 'pomeranian': 1}}, 'Chats': {'total': 17, 'Race': {'basset': 1, 'american': 4, 'samoyed': 1, 'Persian': 1, 'Siamese': 1, 'Bombay': 2, 'german': 1, 'great': 3, 'Abyssinian': 2, 'Bengal': 1}}}\n"
     ]
    }
   ],
   "source": [
    "NOMBRE_UTILISATEUR = 4\n",
    "utilisateursImageAime = []\n",
    "infoUtilisateur = []\n",
    "\n",
    "# Parcours des utilisateurs\n",
    "for i in range(NOMBRE_UTILISATEUR):\n",
    "    imageAime = []\n",
    "    dataframes = favoris[i]\n",
    "\n",
    "    # Parcours du dataframe\n",
    "    for index, row in dataframes.iterrows():\n",
    "        if(row[\"Avis\"]) == \"J'aime\":\n",
    "            # On associe une image aimé à un utilisateur\n",
    "            imageAime.append(index)\n",
    "\n",
    "    utilisateurAime = [dataframe[i].iloc[j][\"Image\"] for j in imageAime]\n",
    "    utilisateursImageAime.append(utilisateurAime)\n",
    "    \n",
    "\n",
    "for i in range (NOMBRE_UTILISATEUR):\n",
    "    info = {}\n",
    "    info[\"Couleurs\"] = {}\n",
    "    info[\"Chiens\"] = {\n",
    "        \"total\": 0,\n",
    "        \"Race\" : {}\n",
    "    }\n",
    "    info[\"Chats\"] = {\n",
    "        \"total\": 0,\n",
    "        \"Race\" : {}\n",
    "    }\n",
    "\n",
    "    for image in utilisateursImageAime[i]:\n",
    "        # Récupération des informations de l'image\n",
    "        imageInfo = listeImages[image]\n",
    "        couleurs = imageInfo[\"Couleurs\"]\n",
    "        race = imageInfo[\"Race\"]\n",
    "        animal = imageInfo[\"Animal\"]\n",
    "        listeRaces = info[animal][\"Race\"]\n",
    "\n",
    "        # On augmente le nombre total d'animal\n",
    "        info[animal][\"total\"] = info[animal][\"total\"] + 1\n",
    "        listeRaces = info[animal][\"Race\"]\n",
    "        \n",
    "        # Ajout des races détéctés dans la liste des races\n",
    "        if race not in listeRaces:\n",
    "            listeRaces[race] = 1\n",
    "        else:\n",
    "            listeRaces[race] = listeRaces[race] + 1\n",
    "        \n",
    "        # Ajout des couleurs\n",
    "        couleursImage = info[\"Couleurs\"]\n",
    "        for j in couleurs:\n",
    "            if j not in couleursImage:\n",
    "                couleursImage[j] = 1\n",
    "            else:\n",
    "                couleursImage[j] = couleursImage[j] + 1\n",
    "    infoUtilisateur.append(info)\n",
    "    print(info)"
   ]
  },
  {
   "cell_type": "markdown",
   "metadata": {},
   "source": [
    "Avec nos données, nous allons maintenant afficher les statistiques de notre recherche."
   ]
  },
  {
   "cell_type": "code",
   "execution_count": 74,
   "metadata": {},
   "outputs": [
    {
     "data": {
      "image/png": "[encoded data removed]",
      "text/plain": [
       "<Figure size 720x720 with 4 Axes>"
      ]
     },
     "metadata": {},
     "output_type": "display_data"
    }
   ],
   "source": [
    "\n",
    "indexAxes = [[0,0], [0,1], [1,0], [1,1]]\n",
    "\n",
    "graphiques, axes = plt.subplots(nrows=2,ncols=2,  figsize=(10,10))\n",
    "\n",
    "# Parcours la liste des infos de chaque utilisateurs\n",
    "for i, imageAime in enumerate(infoUtilisateur):\n",
    "    # On défini les labels à afficher\n",
    "    labelsGraphe = [\"Chiens\",\"Chats\"]\n",
    "    sizes = [imageAime[\"Chats\"][\"total\"],imageAime[\"Chiens\"][\"total\"]]\n",
    "\n",
    "    # On ajoute un titre à chaque graphe\n",
    "    axes[indexAxes[i][0],indexAxes[i][1]].set_title(f\"Utilisateurs {i+1}\")\n",
    "\n",
    "    # On défini les paramètres de chaque graphiques\n",
    "    axes[indexAxes[i][0],indexAxes[i][1]].pie(sizes, labels=labels, autopct='%1f%%', startangle=90)\n",
    "plt.show()"
   ]
  },
  {
   "cell_type": "markdown",
   "metadata": {},
   "source": [
    "## Système de Recommandation\n",
    "\n",
    "Pour créer notre système de recommendation, nous allons utiliser des \"Decision Trees\", pour chaque utilisateurs avec leurs images favorites."
   ]
  },
  {
   "cell_type": "code",
   "execution_count": 77,
   "metadata": {},
   "outputs": [
    {
     "name": "stdout",
     "output_type": "stream",
     "text": [
      "[DecisionTreeClassifier(), DecisionTreeClassifier(), DecisionTreeClassifier(), DecisionTreeClassifier()]\n"
     ]
    }
   ],
   "source": [
    "trees = []\n",
    "df = [dataframes.loc[:, \"Race\":\"Couleur3\"] for dataframes in dataframe]\n",
    "\n",
    "for dataframes in df:\n",
    "    for i, colonne in enumerate(colonneDataframe):\n",
    "        dataframes[colonne] = labels[i].fit_transform(dataframes[colonne])\n",
    "\n",
    "# Parcours des images aimées\n",
    "for dataframesAime in favoris:\n",
    "    dataframesAime[\"Avis\"] = labelFavoris.fit_transform(dataframesAime[\"Avis\"])\n",
    "\n",
    "for i in range(NOMBRE_UTILISATEUR):\n",
    "    # Création des arbres\n",
    "    decisionTree = tree.DecisionTreeClassifier()\n",
    "    decisionTree = decisionTree.fit(df[i], favoris[i])\n",
    "    trees.append(decisionTree)\n"
   ]
  },
  {
   "cell_type": "markdown",
   "metadata": {},
   "source": [
    "## Tests\n",
    "Pour tester notre système de recommendation, nous allons tester avec un utilisateur qui a aimé toutes les images de chaque race de chien"
   ]
  }
 ],
 "metadata": {
  "interpreter": {
   "hash": "916dbcbb3f70747c44a77c7bcd40155683ae19c65e1c03b4aa3499c5328201f1"
  },
  "kernelspec": {
   "display_name": "Python 3.8.10 64-bit",
   "language": "python",
   "name": "python3"
  },
  "language_info": {
   "codemirror_mode": {
    "name": "ipython",
    "version": 3
   },
   "file_extension": ".py",
   "mimetype": "text/x-python",
   "name": "python",
   "nbconvert_exporter": "python",
   "pygments_lexer": "ipython3",
   "version": "3.8.10"
  },
  "orig_nbformat": 4
 },
 "nbformat": 4,
 "nbformat_minor": 2
}
