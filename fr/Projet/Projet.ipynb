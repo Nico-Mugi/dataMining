{
 "cells": [
  {
   "cell_type": "markdown",
   "metadata": {},
   "source": [
    "# Projet\n"
   ]
  },
  {
   "cell_type": "markdown",
   "metadata": {},
   "source": [
    "## Collecte de données\n",
    "Nous commencons par créer notre dossier images, dans le repertoire courant.\n",
    "Nous téléchargons ensuite nos cents images depuis la banque d'images : "
   ]
  },
  {
   "cell_type": "code",
   "execution_count": 3,
   "metadata": {},
   "outputs": [
    {
     "name": "stdout",
     "output_type": "stream",
     "text": [
      "Clé API obtenu\n",
      "200\n",
      "{'total': 1, 'totalHits': 1, 'hits': [{'id': 1, 'pageURL': 'https://pixabay.com/photos/fall-forest-tree-branch-leaves-1/', 'type': 'photo', 'tags': 'fall, forest, tree', 'previewURL': 'https://cdn.pixabay.com/photo/2010/11/24/autumn-1_150.jpg', 'previewWidth': 150, 'previewHeight': 112, 'webformatURL': 'https://pixabay.com/get/ga90c0b833c4ee65b15d15033dc75820c2a59b8b99a8cde56237486705ecd0efb6f1c29d17b2d3b272ed1ca7d5f161773_640.jpg', 'webformatWidth': 640, 'webformatHeight': 480, 'largeImageURL': 'https://pixabay.com/get/g65560e95bed495a11b0420ad2bb664f56f9e30b525aee43b79f393a80212d689503c814e6e28b9757616751d57249316_1280.jpg', 'imageWidth': 3264, 'imageHeight': 2448, 'imageSize': 3907250, 'views': 208273, 'downloads': 2421, 'collections': 70, 'likes': 66, 'comments': 16, 'user_id': 2, 'user': 'Hans', 'userImageURL': 'https://cdn.pixabay.com/user/2019/01/29/15-01-52-802_250x250.jpg'}]}\n"
     ]
    }
   ],
   "source": [
    "import os\n",
    "import json\n",
    "import numpy as np\n",
    "import requests\n",
    "from exif import Image\n",
    "\n",
    "IMAGE_PATH = \"images/\"\n",
    "API_URL = \"https://pixabay.com/api/\"\n",
    "\n",
    "# Création du dossier images\n",
    "if not os.path.exists(IMAGE_PATH):\n",
    "    os.mkdir(IMAGE_PATH)\n",
    "    print(\"Création du dossier {} effectué\".format(IMAGE_PATH))\n",
    "\n",
    "# Récupération de la clé API\n",
    "with open('api.key') as file:\n",
    "    api_key = file.readline()\n",
    "    print(\"Clé API obtenu\")\n",
    "file.close()\n",
    "\n",
    "# Récupération des images via l'API\n",
    "response = requests.get(\"{}?key={}&id=1\".format(API_URL, api_key))\n",
    "print(response.status_code)\n",
    "print(response.json())"
   ]
  }
 ],
 "metadata": {
  "interpreter": {
   "hash": "916dbcbb3f70747c44a77c7bcd40155683ae19c65e1c03b4aa3499c5328201f1"
  },
  "kernelspec": {
   "display_name": "Python 3.8.10 64-bit",
   "language": "python",
   "name": "python3"
  },
  "language_info": {
   "codemirror_mode": {
    "name": "ipython",
    "version": 3
   },
   "file_extension": ".py",
   "mimetype": "text/x-python",
   "name": "python",
   "nbconvert_exporter": "python",
   "pygments_lexer": "ipython3",
   "version": "3.8.10"
  },
  "orig_nbformat": 4
 },
 "nbformat": 4,
 "nbformat_minor": 2
}
